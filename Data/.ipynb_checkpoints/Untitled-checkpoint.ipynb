{
 "cells": [
  {
   "cell_type": "code",
   "execution_count": 20,
   "id": "ba04fac1",
   "metadata": {
    "scrolled": true
   },
   "outputs": [
    {
     "name": "stdout",
     "output_type": "stream",
     "text": [
      "0.1838006879910448\n",
      "0.07844567898208957\n",
      "0.09001263288955222\n",
      "0.26983432468656715\n",
      "1e-06\n",
      "0.2318962518511905\n",
      "0.23562114971428574\n",
      "0.14936999446428573\n",
      "0.39987828913095236\n",
      "0.32530962815476194\n",
      "0.0356815222119403\n",
      "0.10999692502089554\n"
     ]
    }
   ],
   "source": [
    "import pandas as pd\n",
    "df = pd.read_csv(\"Loud/sensorData_20240515190053.csv\")\n",
    "df2 = pd.read_csv(\"stationary/sensorData_20240515134716.csv\")\n",
    "df3 = pd.read_csv(\"stationary/sensorData_20240515134727.csv\")\n",
    "df4 = pd.read_csv(\"Loud/sensorData_20240515190104.csv\")\n",
    "df5 = pd.read_csv(\"walking/sensorData_20240515212932.csv\")\n",
    "df6 = pd.read_csv(\"walking/sensorData_20240515212950.csv\")\n",
    "df7 = pd.read_csv(\"walking/sensorData_20240515212958.csv\")\n",
    "df8 = pd.read_csv(\"running/sensorData_20240515213648.csv\")\n",
    "df9 = pd.read_csv(\"running/sensorData_20240515213714.csv\")\n",
    "df10 = pd.read_csv(\"running/sensorData_20240515213742.csv\")\n",
    "df11 = pd.read_csv(\"stationary/sensorData_20240515135054.csv\")\n",
    "df12 = pd.read_csv(\"stationary/sensorData_20240515135204.csv\")\n",
    "\n",
    "\n",
    "print(df[\"AudioLevel\"].mean())\n",
    "print(df2[\"AudioLevel\"].mean())\n",
    "print(df3[\"AudioLevel\"].mean())\n",
    "print(df4[\"AudioLevel\"].mean())\n",
    "print(df5[\"AudioLevel\"].mean())\n",
    "print(df6[\"AudioLevel\"].mean())\n",
    "print(df7[\"AudioLevel\"].mean())\n",
    "print(df8[\"AudioLevel\"].mean())\n",
    "print(df9[\"AudioLevel\"].mean())\n",
    "print(df10[\"AudioLevel\"].mean())\n",
    "print(df11[\"AudioLevel\"].mean())\n",
    "print(df12[\"AudioLevel\"].mean())"
   ]
  },
  {
   "cell_type": "code",
   "execution_count": null,
   "id": "d76e81e2",
   "metadata": {},
   "outputs": [],
   "source": []
  }
 ],
 "metadata": {
  "kernelspec": {
   "display_name": "Python 3 (ipykernel)",
   "language": "python",
   "name": "python3"
  },
  "language_info": {
   "codemirror_mode": {
    "name": "ipython",
    "version": 3
   },
   "file_extension": ".py",
   "mimetype": "text/x-python",
   "name": "python",
   "nbconvert_exporter": "python",
   "pygments_lexer": "ipython3",
   "version": "3.11.5"
  }
 },
 "nbformat": 4,
 "nbformat_minor": 5
}
